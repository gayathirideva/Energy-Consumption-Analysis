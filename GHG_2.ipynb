{
 "cells": [
  {
   "cell_type": "code",
   "execution_count": 1,
   "id": "3d39c0c0",
   "metadata": {},
   "outputs": [],
   "source": [
    "!pip install xlrd\n",
    "import pandas as pd\n",
    "import requests\n",
    "import glob\n",
    "import json\n",
    "import requests\n",
    "import numpy as np\n",
    "import warnings\n",
    "warnings.filterwarnings('ignore')"
   ]
  },
  {
   "cell_type": "code",
   "execution_count": 2,
   "id": "0a0bdbc6",
   "metadata": {},
   "outputs": [],
   "source": [
    "# Replace 'your_file.xls' with the actual path to your Excel file\n",
    "file_path = 'C:/Users/LENOVO/Downloads/GHG/normalized_bps_data_2011-2020_school_board_english.xlsx'\n",
    "\n",
    "# Read the Excel file\n",
    "xls = pd.ExcelFile(file_path)\n",
    "\n",
    "# Specify the sheet names you are interested in\n",
    "selected_years = [2011, 2012, 2013, 2014, 2015, 2016, 2017, 2018, 2019, 2020]\n",
    "\n",
    "# Initialize a list to store DataFrames with year information\n",
    "general_data = []\n",
    "\n",
    "# Loop through each specified sheet, add year information, and store the data\n",
    "for year in selected_years:\n",
    "    sheet_name = str(year)  # Convert the year to a string\n",
    "    if sheet_name in xls.sheet_names:\n",
    "        df = xls.parse(sheet_name)\n",
    "        df['Year'] = year  # Add a new column 'Year' with the corresponding year\n",
    "        general_data.append(df)\n",
    "\n",
    "# Concatenate all DataFrames into a single DataFrame\n",
    "full_data = pd.concat(general_data, ignore_index=True)\n",
    "\n",
    "# Now, full_data contains all the sheets with a 'Year' column indicating the corresponding year\n"
   ]
  },
  {
   "cell_type": "code",
   "execution_count": 3,
   "id": "14950dd5",
   "metadata": {},
   "outputs": [],
   "source": [
    "full_data"
   ]
  },
  {
   "cell_type": "code",
   "execution_count": 4,
   "id": "a35913a7",
   "metadata": {},
   "outputs": [],
   "source": [
    "full_data.describe()"
   ]
  },
  {
   "cell_type": "code",
   "execution_count": 5,
   "id": "f3d932f3",
   "metadata": {},
   "outputs": [],
   "source": [
    "full_data.dtypes"
   ]
  },
  {
   "cell_type": "code",
   "execution_count": 6,
   "id": "213a65d0",
   "metadata": {},
   "outputs": [],
   "source": [
    "full_data.isnull().sum()"
   ]
  },
  {
   "cell_type": "code",
   "execution_count": 7,
   "id": "6be8334d",
   "metadata": {},
   "outputs": [],
   "source": [
    "#49684 rows × 40 columns\n",
    "full_data['Sub Sector'].unique()"
   ]
  },
  {
   "cell_type": "code",
   "execution_count": 8,
   "id": "415f5634",
   "metadata": {},
   "outputs": [],
   "source": [
    "full_data['Sub Sector'].fillna(value = 'School Board', inplace = True)"
   ]
  },
  {
   "cell_type": "code",
   "execution_count": 9,
   "id": "a826f783",
   "metadata": {},
   "outputs": [],
   "source": [
    "full_data = full_data.drop('Energy Intensity (ekWh/ML)', axis=1)\n",
    "full_data = full_data.drop('Energy Intensity (eWh/HDD/sq. ft)', axis=1) #2012 Energy Intensity (ekWh/ML)\n",
    "full_data = full_data.drop('2012 Energy Intensity (ekWh/ML)', axis=1) #2013 Energy Intensity (ekWh/ML)\n",
    "full_data = full_data.drop('2013 Energy Intensity (ekWh/ML)', axis=1)\n",
    "full_data = full_data.drop('2014 Energy Intensity (ekWh/ML)', axis=1)\n",
    "full_data = full_data.drop('2015 Energy Intensity (ekWh/ML)', axis=1)\n",
    "full_data = full_data.drop('2016 Energy Intensity (ekWh/ML)', axis=1) #2016 Energy Intensity (ekWh/ML)\n",
    "full_data = full_data.drop('2017 Energy Intensity (ekWh/ML)', axis=1)\n",
    "full_data = full_data.drop('2018 Energy Intensity (ekWh/ML)', axis=1)#Energy Intensity (ekWh/ML)\n",
    "full_data = full_data.drop('2019 Energy Intensity (ekWh/ML)', axis=1)  #2011 Energy Intensity (ekWh/ML) \n",
    "full_data = full_data.drop('2011 Energy Intensity (ekWh/ML)', axis=1)"
   ]
  },
  {
   "cell_type": "code",
   "execution_count": 10,
   "id": "735f7881",
   "metadata": {},
   "outputs": [],
   "source": [
    "full_data['2011 GHG Emissions (kg)'].fillna(full_data['2011 GHG Emissions (kg)'].median(),inplace = True )\n",
    "full_data['2011 Energy Intensity (eWh/HDD/sq. ft)'].fillna(full_data['2011 Energy Intensity (eWh/HDD/sq. ft)'].median(),inplace = True)\n",
    "\n",
    "#full_data['2011 Energy Intensity (ekWh/ML)'].fillna(full_data['2011 Energy Intensity (ekWh/ML)'].median(),inplace = True)\n",
    "full_data['2012 GHG Emissions (kg)'].fillna(full_data['2012 GHG Emissions (kg)'].median(),inplace = True)\n",
    "\n",
    "full_data['2012 Energy Intensity (eWh/HDD/sq. ft)'].fillna(full_data['2012 Energy Intensity (eWh/HDD/sq. ft)'].median(),inplace = True)\n",
    "#full_data['2012 Energy Intensity (ekWh/ML)'].fillna(full_data['2012 Energy Intensity (ekWh/ML)'].median(),inplace = True)\n",
    "\n",
    "full_data['2013 GHG Emissions (kg)'].fillna(full_data['2013 GHG Emissions (kg)'].median(),inplace = True)\n",
    "full_data['2013 Energy Intensity (eWh/HDD/sq. ft)'].fillna(full_data['2013 Energy Intensity (eWh/HDD/sq. ft)'].median(),inplace = True)\n",
    "full_data['2014 GHG Emissions (kg)'].fillna(full_data['2014 GHG Emissions (kg)'].median(),inplace = True)\n",
    "\n",
    "full_data['2014 Energy Intensity (eWh/HDD/sq. ft)'].fillna(full_data['2014 Energy Intensity (eWh/HDD/sq. ft)'].median(),inplace = True)\n",
    "\n",
    "\n",
    "full_data['2015 GHG Emissions (kg)'].fillna(full_data['2015 GHG Emissions (kg)'].median(),inplace = True)\n",
    "full_data['2015 Energy Intensity (eWh/HDD/sq. ft)'].fillna(full_data['2015 Energy Intensity (eWh/HDD/sq. ft)'].median(),inplace = True)\n",
    "\n",
    "#full_data['2015 Energy Intensity (ekWh/ML)'].fillna(full_data['2015 Energy Intensity (ekWh/ML)'].median(),inplace = True)\n",
    "#full_data['2014 Energy Intensity (ekWh/ML)'].fillna(full_data['2014 Energy Intensity (ekWh/ML)'].median(),inplace = True)\n",
    "\n",
    "full_data['2016 GHG Emissions (kg)'].fillna(full_data['2016 GHG Emissions (kg)'].median(),inplace = True)\n",
    "full_data['2016 Energy Intensity (eWh/HDD/sq. ft)'].fillna(full_data['2016 Energy Intensity (eWh/HDD/sq. ft)'].median(),inplace = True)\n",
    "full_data['2017 GHG Emissions (kg)'].fillna(full_data['2017 GHG Emissions (kg)'].median(),inplace = True)                                                                                                            \n",
    "full_data['2017 Energy Intensity (eWh/HDD/sq. ft)'].fillna(full_data['2017 Energy Intensity (eWh/HDD/sq. ft)'].median(),inplace = True)\n",
    "full_data['2018 GHG Emissions (kg)'].fillna(full_data['2018 GHG Emissions (kg)'].median(),inplace = True)\n",
    "full_data['2018 Energy Intensity (eWh/HDD/sq. ft)'].fillna(full_data['2018 Energy Intensity (eWh/HDD/sq. ft)'].median(),inplace = True)\n",
    "full_data['2019 Energy Intensity (eWh/HDD/sq. ft)'] = full_data['2019 Energy Intensity (eWh/HDD/sq. ft)'].median()\n",
    "full_data['GHG Emissions (kg)'] = full_data['GHG Emissions (kg)'].median()\n",
    "#full_data['2018 Energy Intensity (ekWh/ML)'].fillna(full_data['2018 Energy Intensity (ekWh/ML)'],inplace = True)\n",
    "full_data['2019 GHG Emissions (kg)'].fillna(full_data['2019 GHG Emissions (kg)'].median(),inplace = True)\n",
    "\n",
    "\n",
    "full_data['2019 Energy Intensity (eWh/HDD/sq. ft)'].fillna(full_data['2019 Energy Intensity (eWh/HDD/sq. ft)'],inplace = True)\n",
    "full_data['SubSector'].fillna(value = 'School Board', inplace = True)"
   ]
  },
  {
   "cell_type": "code",
   "execution_count": 11,
   "id": "64517ed8",
   "metadata": {
    "scrolled": true
   },
   "outputs": [],
   "source": [
    "full_data.isnull().sum()"
   ]
  },
  {
   "cell_type": "code",
   "execution_count": 12,
   "id": "36dcab90",
   "metadata": {},
   "outputs": [],
   "source": [
    "full_data.shape"
   ]
  },
  {
   "cell_type": "code",
   "execution_count": 13,
   "id": "19aadd2b",
   "metadata": {},
   "outputs": [],
   "source": [
    "# DATA from Excel 2"
   ]
  },
  {
   "cell_type": "code",
   "execution_count": 14,
   "id": "8d3c4338",
   "metadata": {},
   "outputs": [],
   "source": [
    "import pandas as pd\n",
    "\n",
    "# Replace 'your_file.xls' with the actual path to your Excel file\n",
    "file_path = 'C:/Users/LENOVO/Downloads/GHG/normalized_bps_data_2011-2020_public_hospital.xlsx'\n",
    "\n",
    "# Read the Excel file\n",
    "xls = pd.ExcelFile(file_path)\n",
    "\n",
    "# Specify the sheet names you are interested in\n",
    "selected_years = [2011, 2012, 2013, 2014, 2015, 2016, 2017, 2018, 2019, 2020]\n",
    "\n",
    "# Initialize a list to store DataFrames with year information\n",
    "general_data = []\n",
    "\n",
    "# Loop through each specified sheet, add year information, and store the data\n",
    "for year in selected_years:\n",
    "    sheet_name = str(year)  # Convert the year to a string\n",
    "    if sheet_name in xls.sheet_names:\n",
    "        df = xls.parse(sheet_name)\n",
    "        df['Year'] = year  # Add a new column 'Year' with the corresponding year\n",
    "        general_data.append(df)\n",
    "\n",
    "# Concatenate all DataFrames into a single DataFrame\n",
    "full_data_2 = pd.concat(general_data, ignore_index=True)\n",
    "\n",
    "# Now, full_data contains all the sheets with a 'Year' column indicating the corresponding year\n"
   ]
  },
  {
   "cell_type": "code",
   "execution_count": 15,
   "id": "13798940",
   "metadata": {},
   "outputs": [],
   "source": [
    "full_data_2"
   ]
  },
  {
   "cell_type": "code",
   "execution_count": 16,
   "id": "b8ce1497",
   "metadata": {},
   "outputs": [],
   "source": [
    "full_data_2.shape"
   ]
  },
  {
   "cell_type": "code",
   "execution_count": 17,
   "id": "7878f059",
   "metadata": {},
   "outputs": [],
   "source": [
    "full_data_2.isnull().sum()"
   ]
  },
  {
   "cell_type": "code",
   "execution_count": 18,
   "id": "a3b163a5",
   "metadata": {},
   "outputs": [],
   "source": [
    "full_data_2 = full_data_2.drop('2011 Energy Intensity (ekWh/ML)', axis=1)\n",
    "full_data_2 = full_data_2.drop('2012 Energy Intensity (ekWh/ML)', axis=1)\n",
    "full_data_2 = full_data_2.drop('2014 Energy Intensity (ekWh/ML)', axis=1)\n",
    "full_data_2 = full_data_2.drop('2015 Energy Intensity (ekWh/ML)', axis=1)\n",
    "full_data_2 = full_data_2.drop('2016 Energy Intensity (ekWh/ML)', axis=1)\n",
    "full_data_2 = full_data_2.drop('2017 Energy Intensity (ekWh/ML)', axis=1)\n",
    "full_data_2 = full_data_2.drop('2018 Energy Intensity (ekWh/ML)', axis=1)\n",
    "full_data_2 = full_data_2.drop('2019 Energy Intensity (ekWh/ML)', axis=1)\n",
    "full_data_2 = full_data_2.drop('Energy Intensity (ekWh/ML)', axis=1)"
   ]
  },
  {
   "cell_type": "code",
   "execution_count": 19,
   "id": "8d836311",
   "metadata": {},
   "outputs": [],
   "source": [
    "full_data_2['2011 GHG Emissions (kg)'].fillna(full_data_2['2011 GHG Emissions (kg)'].median(),inplace = True )\n",
    "full_data_2['2011 Energy Intensity (eWh/HDD/sq. ft)'].fillna(full_data_2['2011 Energy Intensity (eWh/HDD/sq. ft)'].median(),inplace = True)\n",
    "\n",
    "#full_data['2011 Energy Intensity (ekWh/ML)'].fillna(full_data['2011 Energy Intensity (ekWh/ML)'].median(),inplace = True)\n",
    "full_data_2['2012 GHG Emissions (kg)'].fillna(full_data_2['2012 GHG Emissions (kg)'].median(),inplace = True)\n",
    "\n",
    "full_data_2['2012 Energy Intensity (eWh/HDD/sq. ft)'].fillna(full_data_2['2012 Energy Intensity (eWh/HDD/sq. ft)'].median(),inplace = True)\n",
    "#full_data_2['2012 Energy Intensity (ekWh/ML)'].fillna(full_data_2['2012 Energy Intensity (ekWh/ML)'].median(),inplace = True)\n",
    "\n",
    "full_data_2['2013 GHG Emissions (kg)'].fillna(full_data_2['2013 GHG Emissions (kg)'].median(),inplace = True)\n",
    "full_data_2['2013 Energy Intensity (eWh/HDD/sq. ft)'].fillna(full_data_2['2013 Energy Intensity (eWh/HDD/sq. ft)'].median(),inplace = True)\n",
    "\n",
    "full_data_2['2013 Energy Intensity (ekWh/ML)'].fillna(full_data_2['2013 Energy Intensity (ekWh/ML)'].median(),inplace = True)\n",
    "full_data_2['2014 GHG Emissions (kg)'].fillna(full_data_2['2014 GHG Emissions (kg)'].median(),inplace = True)\n",
    "\n",
    "full_data_2['2014 Energy Intensity (eWh/HDD/sq. ft)'].fillna(full_data_2['2014 Energy Intensity (eWh/HDD/sq. ft)'].median(),inplace = True)\n",
    "#full_data_2['2014 Energy Intensity (ekWh/ML)'].fillna(full_data_2['2014 Energy Intensity (ekWh/ML)'].median(),inplace = True)\n",
    "\n",
    "full_data_2['2015 GHG Emissions (kg)'].fillna(full_data_2['2015 GHG Emissions (kg)'].median(),inplace = True)\n",
    "full_data_2['2015 Energy Intensity (eWh/HDD/sq. ft)'].fillna(full_data_2['2015 Energy Intensity (eWh/HDD/sq. ft)'].median(),inplace = True)\n",
    "full_data_2['2016 GHG Emissions (kg)'].fillna(full_data_2['2016 GHG Emissions (kg)'].median(),inplace = True)\n",
    "full_data_2['2016 Energy Intensity (eWh/HDD/sq. ft)'].fillna(full_data_2['2016 Energy Intensity (eWh/HDD/sq. ft)'].median(),inplace = True)                                                    \n",
    "full_data_2['2017 GHG Emissions (kg)'].fillna(full_data_2['2017 GHG Emissions (kg)'].median(),inplace = True)                                                                                                          \n",
    "full_data_2['2017 Energy Intensity (eWh/HDD/sq. ft)'].fillna(full_data_2['2017 Energy Intensity (eWh/HDD/sq. ft)'].median(),inplace = True)\n",
    "full_data_2['2018 GHG Emissions (kg)'].fillna(full_data_2['2018 GHG Emissions (kg)'].median(),inplace = True)\n",
    "full_data_2['2018 Energy Intensity (eWh/HDD/sq. ft)'].fillna(full_data_2['2018 Energy Intensity (eWh/HDD/sq. ft)'].median(),inplace = True)\n",
    "full_data_2['2019 GHG Emissions (kg)'].fillna(full_data_2['2019 GHG Emissions (kg)'].median(),inplace = True)\n",
    "full_data_2['2019 Energy Intensity (eWh/HDD/sq. ft)'].fillna(full_data_2['2019 Energy Intensity (eWh/HDD/sq. ft)'].median(),inplace = True)\n",
    "full_data_2['GHG Emissions (kg)'].fillna(full_data_2['GHG Emissions (kg)'].median(),inplace = True)\n",
    "full_data_2['Energy Intensity (eWh/HDD/sq. ft)'].fillna(full_data_2['Energy Intensity (eWh/HDD/sq. ft)'].median(),inplace = True)\n"
   ]
  },
  {
   "cell_type": "code",
   "execution_count": 20,
   "id": "d3f7754a",
   "metadata": {},
   "outputs": [],
   "source": [
    "full_data_2.isnull().sum()"
   ]
  },
  {
   "cell_type": "code",
   "execution_count": 21,
   "id": "5a414086",
   "metadata": {},
   "outputs": [],
   "source": [
    "full_data_2.shape"
   ]
  },
  {
   "cell_type": "code",
   "execution_count": 22,
   "id": "4e607f6a",
   "metadata": {},
   "outputs": [],
   "source": [
    "# DATA FOR 3rd EXCEL"
   ]
  },
  {
   "cell_type": "code",
   "execution_count": 23,
   "id": "e09c44f7",
   "metadata": {},
   "outputs": [],
   "source": [
    "import pandas as pd\n",
    "\n",
    "# Replace 'your_file.xls' with the actual path to your Excel file\n",
    "file_path = 'C:/Users/LENOVO/Downloads/GHG/normalized_bps_data_2011-2020_post_secondary_educational_institution.xlsx'\n",
    "\n",
    "# Read the Excel file\n",
    "xls = pd.ExcelFile(file_path)\n",
    "\n",
    "# Specify the sheet names you are interested in\n",
    "selected_years = [2011, 2012, 2013, 2014, 2015, 2016, 2017, 2018, 2019, 2020]\n",
    "\n",
    "# Initialize a list to store DataFrames with year information\n",
    "general_data = []\n",
    "\n",
    "# Loop through each specified sheet, add year information, and store the data\n",
    "for year in selected_years:\n",
    "    sheet_name = str(year)  # Convert the year to a string\n",
    "    if sheet_name in xls.sheet_names:\n",
    "        df = xls.parse(sheet_name)\n",
    "        df['Year'] = year  # Add a new column 'Year' with the corresponding year\n",
    "        general_data.append(df)\n",
    "\n",
    "# Concatenate all DataFrames into a single DataFrame\n",
    "full_data_3 = pd.concat(general_data, ignore_index=True)\n",
    "\n",
    "# Now, full_data contains all the sheets with a 'Year' column indicating the corresponding year\n"
   ]
  },
  {
   "cell_type": "code",
   "execution_count": 24,
   "id": "f8de875f",
   "metadata": {},
   "outputs": [],
   "source": [
    "full_data_3"
   ]
  },
  {
   "cell_type": "code",
   "execution_count": 25,
   "id": "57df7041",
   "metadata": {},
   "outputs": [],
   "source": [
    "full_data_3.dtypes"
   ]
  },
  {
   "cell_type": "code",
   "execution_count": 26,
   "id": "32f106d3",
   "metadata": {},
   "outputs": [],
   "source": [
    "full_data_3.isnull().sum()"
   ]
  },
  {
   "cell_type": "code",
   "execution_count": 27,
   "id": "517eabb9",
   "metadata": {},
   "outputs": [],
   "source": [
    "full_data_3.shape"
   ]
  },
  {
   "cell_type": "code",
   "execution_count": 28,
   "id": "a90a841b",
   "metadata": {},
   "outputs": [],
   "source": [
    "full_data_3 = full_data_3.drop('2011 Energy Intensity (ekWh/ML)', axis=1)\n",
    "full_data_3 = full_data_3.drop('2012 Energy Intensity (ekWh/ML)', axis=1)\n",
    "full_data_3 = full_data_3.drop('2013 Energy Intensity (ekWh/ML)', axis=1)\n",
    "full_data_3 = full_data_3.drop('2014 Energy Intensity (ekWh/ML)', axis=1)\n",
    "full_data_3 = full_data_3.drop('2015 Energy Intensity (ekWh/ML)', axis=1)\n",
    "full_data_3 = full_data_3.drop('2016 Energy Intensity (ekWh/ML)', axis=1)\n",
    "full_data_3 = full_data_3.drop('2017 Energy Intensity (ekWh/ML)', axis=1)\n",
    "full_data_3 = full_data_3.drop('2018 Energy Intensity (ekWh/ML)', axis=1)\n",
    "full_data_3 = full_data_3.drop('2019 Energy Intensity (ekWh/ML)', axis=1)\n",
    "full_data_3 = full_data_3.drop('Energy Intensity (ekWh/ML)', axis=1)"
   ]
  },
  {
   "cell_type": "code",
   "execution_count": 29,
   "id": "1d1b0a4a",
   "metadata": {},
   "outputs": [],
   "source": [
    "full_data_3['2011 GHG Emissions (kg)'].fillna(full_data_3['2011 GHG Emissions (kg)'].median(),inplace = True )\n",
    "full_data_3['2011 Energy Intensity (eWh/HDD/sq. ft)'].fillna(full_data_3['2011 Energy Intensity (eWh/HDD/sq. ft)'].median(),inplace = True)\n",
    "\n",
    "#full_data['2011 Energy Intensity (ekWh/ML)'].fillna(full_data['2011 Energy Intensity (ekWh/ML)'].median(),inplace = True)\n",
    "full_data_3['2012 GHG Emissions (kg)'].fillna(full_data_3['2012 GHG Emissions (kg)'].median(),inplace = True)\n",
    "\n",
    "full_data_3['2012 Energy Intensity (eWh/HDD/sq. ft)'].fillna(full_data_3['2012 Energy Intensity (eWh/HDD/sq. ft)'].median(),inplace = True)\n",
    "full_data_3['2013 Energy Intensity (eWh/HDD/sq. ft)'].fillna(full_data_3['2013 Energy Intensity (eWh/HDD/sq. ft)'].median(),inplace = True)\n",
    "full_data_3['2014 GHG Emissions (kg)'].fillna(full_data_3['2014 GHG Emissions (kg)'].median(),inplace = True)\n",
    "\n",
    "full_data_3['2014 Energy Intensity (eWh/HDD/sq. ft)'].fillna(full_data_3['2014 Energy Intensity (eWh/HDD/sq. ft)'].median(),inplace = True)\n",
    "full_data_3['2015 GHG Emissions (kg)'].fillna(full_data_3['2015 GHG Emissions (kg)'].median(),inplace = True)\n",
    "full_data_3['2015 Energy Intensity (eWh/HDD/sq. ft)'].fillna(full_data_3['2015 Energy Intensity (eWh/HDD/sq. ft)'].median(),inplace = True)\n",
    "full_data_3['2016 GHG Emissions (kg)'].fillna(full_data_3['2016 GHG Emissions (kg)'].median(),inplace = True)\n",
    "full_data_3['2016 Energy Intensity (eWh/HDD/sq. ft)'].fillna(full_data_3['2016 Energy Intensity (eWh/HDD/sq. ft)'].median(),inplace = True)\n",
    "                                                      \n",
    "#full_data_3['2016 Energy Intensity (ekWh/ML)'].fillna(full_data_3['2016 Energy Intensity (ekWh/ML)'].median(),inplace = True)\n",
    "full_data_3['2017 GHG Emissions (kg)'].fillna(full_data_3['2017 GHG Emissions (kg)'].median(),inplace = True)\n",
    "                                                                                                            \n",
    "full_data_3['2017 Energy Intensity (eWh/HDD/sq. ft)'].fillna(full_data_3['2017 Energy Intensity (eWh/HDD/sq. ft)'].median(),inplace = True)\n",
    "full_data_3['2018 GHG Emissions (kg)'].fillna(full_data_3['2018 GHG Emissions (kg)'].median(),inplace = True)\n",
    "full_data_3['2018 Energy Intensity (eWh/HDD/sq. ft)'].fillna(full_data_3['2018 Energy Intensity (eWh/HDD/sq. ft)'].median(),inplace = True)\n",
    "#full_data_3['2018 Energy Intensity (ekWh/ML)'].fillna(full_data_3['2018 Energy Intensity (ekWh/ML)'],inplace = True)\n",
    "full_data_3['2019 GHG Emissions (kg)'].fillna(full_data_3['2019 GHG Emissions (kg)'].median(),inplace = True)\n",
    "full_data_3['2019 Energy Intensity (eWh/HDD/sq. ft)'].fillna(full_data_3['2019 Energy Intensity (eWh/HDD/sq. ft)'].median(),inplace = True)\n",
    "full_data_3['2013 GHG Emissions (kg)'].fillna(full_data_3['2013 GHG Emissions (kg)'].median(),inplace = True)\n",
    "full_data_3['GHG Emissions (kg)'].fillna(full_data_3['GHG Emissions (kg)'].median(),inplace = True)\n",
    "#Energy Intensity (eWh/HDD/sq. ft)\n",
    "full_data_3['Energy Intensity (eWh/HDD/sq. ft)'].fillna(full_data_3['Energy Intensity (eWh/HDD/sq. ft)'].median(),inplace = True)\n",
    "#full_data_3['Energy Intensity (ekWh/ML)'].fillna(full_data_3['Energy Intensity (ekWh/ML)'].median(),inplace = True)"
   ]
  },
  {
   "cell_type": "code",
   "execution_count": 30,
   "id": "c63483a4",
   "metadata": {},
   "outputs": [],
   "source": [
    "full_data_3.isnull().sum()"
   ]
  },
  {
   "cell_type": "code",
   "execution_count": 31,
   "id": "9448e440",
   "metadata": {},
   "outputs": [],
   "source": [
    "full_data_3.shape"
   ]
  },
  {
   "cell_type": "code",
   "execution_count": 32,
   "id": "99f25e07",
   "metadata": {},
   "outputs": [],
   "source": [
    "# Data from 4th EXCEL"
   ]
  },
  {
   "cell_type": "code",
   "execution_count": 33,
   "id": "11bbd5c2",
   "metadata": {},
   "outputs": [],
   "source": [
    "import pandas as pd\n",
    "\n",
    "# Replace 'your_file.xls' with the actual path to your Excel file\n",
    "file_path = 'C:/Users/LENOVO/Downloads/GHG/normalized_bps_data_2011-2020_municipality_and_municipal_service_board.xlsx'\n",
    "\n",
    "# Read the Excel file\n",
    "xls = pd.ExcelFile(file_path)\n",
    "\n",
    "# Specify the sheet names you are interested in\n",
    "selected_years = [2011, 2012, 2013, 2014, 2015, 2016, 2017, 2018, 2019, 2020]\n",
    "\n",
    "# Initialize a list to store DataFrames with year information\n",
    "general_data = []\n",
    "\n",
    "# Loop through each specified sheet, add year information, and store the data\n",
    "for year in selected_years:\n",
    "    sheet_name = str(year)  # Convert the year to a string\n",
    "    if sheet_name in xls.sheet_names:\n",
    "        df = xls.parse(sheet_name)\n",
    "        df['Year'] = year  # Add a new column 'Year' with the corresponding year\n",
    "        general_data.append(df)\n",
    "\n",
    "# Concatenate all DataFrames into a single DataFrame\n",
    "full_data_4 = pd.concat(general_data, ignore_index=True)\n",
    "\n",
    "# Now, full_data contains all the sheets with a 'Year' column indicating the corresponding year\n"
   ]
  },
  {
   "cell_type": "code",
   "execution_count": 34,
   "id": "d9b124e6",
   "metadata": {},
   "outputs": [],
   "source": [
    "full_data_4"
   ]
  },
  {
   "cell_type": "code",
   "execution_count": 35,
   "id": "6a4f3900",
   "metadata": {},
   "outputs": [],
   "source": [
    "full_data_4.isnull().sum()"
   ]
  },
  {
   "cell_type": "code",
   "execution_count": 36,
   "id": "eb568af2",
   "metadata": {},
   "outputs": [],
   "source": [
    "full_data_4.shape"
   ]
  },
  {
   "cell_type": "code",
   "execution_count": 37,
   "id": "43c00b51",
   "metadata": {},
   "outputs": [],
   "source": [
    "# Since most of the columns have values, lets find its unique values\n",
    "\n",
    "print('Address :' , full_data_4['Address'].unique())\n",
    "print('City :' ,full_data_4['City'].unique())\n",
    "print('Postal Code :' ,full_data_4['Postal Code'].unique())\n",
    "print('2011 GHG Emissions (kg) :',full_data_4['2011 GHG Emissions (kg)'].unique())\n",
    "print('2011 Energy Intensity (eWh/HDD/sq. ft) :',full_data_4['2011 Energy Intensity (eWh/HDD/sq. ft)'].unique())\n",
    "print('2011 Energy Intensity (ekWh/ML) :', full_data_4['2011 Energy Intensity (ekWh/ML)'].unique())\n",
    "print('2012 GHG Emissions (kg) :',full_data_4['2012 GHG Emissions (kg)'].unique())\n",
    "print('2012 Energy Intensity (eWh/HDD/sq. ft) :',full_data_4['2012 Energy Intensity (eWh/HDD/sq. ft)'].unique())\n",
    "print('2012 Energy Intensity (ekWh/ML) :',full_data_4['2012 Energy Intensity (ekWh/ML)'].unique())\n",
    "print('2013 GHG Emissions (kg) :',full_data_4['2013 GHG Emissions (kg)'].unique())\n",
    "print('2013 Energy Intensity (eWh/HDD/sq. ft) :',full_data_4['2013 Energy Intensity (eWh/HDD/sq. ft)'].unique())\n",
    "print('2013 Energy Intensity (ekWh/ML) :', full_data_4['2013 Energy Intensity (ekWh/ML)'].unique())\n",
    "\n",
    "print('2014 GHG Emissions (kg) :',full_data_4['2014 GHG Emissions (kg)'].unique())\n",
    "print('2014 Energy Intensity (eWh/HDD/sq. ft) :' ,full_data_4['2014 Energy Intensity (eWh/HDD/sq. ft)'].unique())\n",
    "print('2014 Energy Intensity (ekWh/ML) :' ,full_data_4['2014 Energy Intensity (ekWh/ML)'].unique())\n",
    "print('2015 GHG Emissions (kg) :' ,full_data_4['2015 GHG Emissions (kg)'].unique())\n",
    "print('2015 Energy Intensity (eWh/HDD/sq. ft) :' ,full_data_4['2015 Energy Intensity (eWh/HDD/sq. ft)'].unique())\n",
    "print('2015 Energy Intensity (ekWh/ML) :',full_data_4['2015 Energy Intensity (ekWh/ML)'].unique())\n",
    "\n",
    "print('2016 GHG Emissions (kg) :',full_data_4['2016 GHG Emissions (kg)'].unique())\n",
    "print('2016 Energy Intensity (eWh/HDD/sq. ft) :', full_data_4['2016 Energy Intensity (eWh/HDD/sq. ft)'].unique())\n",
    "print('2016 Energy Intensity (ekWh/ML) :', full_data_4['2016 Energy Intensity (ekWh/ML)'].unique())\n",
    "\n",
    "print('2017 GHG Emissions (kg) :',full_data_4['2017 GHG Emissions (kg)'].unique())\n",
    "print('2017 Energy Intensity (eWh/HDD/sq. ft) :',full_data_4['2017 Energy Intensity (eWh/HDD/sq. ft)'].unique())\n",
    "print('2017 Energy Intensity (ekWh/ML) :', full_data_4['2017 Energy Intensity (ekWh/ML)'].unique())\n",
    "\n",
    "print('2018 GHG Emissions (kg) :',full_data_4['2018 GHG Emissions (kg)'].unique())\n",
    "print('2018 Energy Intensity (eWh/HDD/sq. ft) :',full_data_4['2018 Energy Intensity (eWh/HDD/sq. ft)'].unique())\n",
    "print('2018 Energy Intensity (ekWh/ML) :',full_data_4['2018 Energy Intensity (ekWh/ML)'].unique())\n",
    "\n",
    "print('2019 GHG Emissions (kg):', full_data_4['2019 GHG Emissions (kg)'].unique())\n",
    "print('2019 Energy Intensity (eWh/HDD/sq. ft) :',full_data_4['2019 Energy Intensity (eWh/HDD/sq. ft)'].unique())\n",
    "print('2019 Energy Intensity (ekWh/ML) :', full_data_4['2019 Energy Intensity (ekWh/ML)'].unique())\n",
    "\n",
    "print('Unnamed: 11 :',full_data_4['Unnamed: 11'].unique())\n",
    "print('SubSector :',full_data_4['SubSector'].unique())\n",
    "print('Sub Sector :',full_data_4['Sub Sector'].unique())\n",
    "print('GHG Emissions (kg) :',full_data_4['GHG Emissions (kg)'].unique())\n",
    "print('Energy Intensity (eWh/HDD/sq. ft):',full_data_4['Energy Intensity (eWh/HDD/sq. ft)'].unique())\n",
    "print('Energy Intensity (ekWh/ML) :',full_data_4['Energy Intensity (ekWh/ML)'].unique())\n"
   ]
  },
  {
   "cell_type": "code",
   "execution_count": 38,
   "id": "c01028cf",
   "metadata": {},
   "outputs": [],
   "source": [
    "# Since few columns have exponential values, cross verfying the median value \n",
    "import numpy as np\n",
    "\n",
    "# Sample data with NaN values\n",
    "data = np.array(full_data_4['2019 Energy Intensity (ekWh/ML)'])\n",
    "        \n",
    "# Remove NaN values before sorting and calculating the median\n",
    "non_nan_data = data[~np.isnan(data)]\n",
    "\n",
    "# Sort the non-NaN data\n",
    "sorted_data = np.sort(non_nan_data)\n",
    "\n",
    "# Find the median\n",
    "median_position = len(sorted_data) // 2\n",
    "\n",
    "if len(sorted_data) % 2 == 0:\n",
    "    median_value = (sorted_data[median_position - 1] + sorted_data[median_position]) / 2\n",
    "else:\n",
    "    median_value = sorted_data[median_position]\n",
    "\n",
    "print(\"Original Data with NaN:\", data)\n",
    "print(\"Data without NaN:\", non_nan_data)\n",
    "print(\"Sorted Data without NaN:\", sorted_data)\n",
    "print(\"Median Value:\", median_value)\n"
   ]
  },
  {
   "cell_type": "code",
   "execution_count": 39,
   "id": "ce588b8a",
   "metadata": {},
   "outputs": [],
   "source": [
    "#111615\n",
    "full_data_4['2019 Energy Intensity (ekWh/ML)'].median() #30965.11585 , Unnamed: 11'"
   ]
  },
  {
   "cell_type": "code",
   "execution_count": 40,
   "id": "7d15ba0c",
   "metadata": {},
   "outputs": [],
   "source": [
    "# There is no difference in the median value "
   ]
  },
  {
   "cell_type": "code",
   "execution_count": 41,
   "id": "0e782e10",
   "metadata": {},
   "outputs": [],
   "source": [
    "full_data_4['2011 GHG Emissions (kg)'].fillna(full_data_4['2011 GHG Emissions (kg)'].median(),inplace = True )\n",
    "full_data_4['2011 Energy Intensity (eWh/HDD/sq. ft)'].fillna(full_data_4['2011 Energy Intensity (eWh/HDD/sq. ft)'].median(),inplace = True)\n",
    "\n",
    "full_data_4['2011 Energy Intensity (ekWh/ML)'].fillna(full_data_4['2011 Energy Intensity (ekWh/ML)'].median(),inplace = True)\n",
    "full_data_4['2012 GHG Emissions (kg)'].fillna(full_data_4['2012 GHG Emissions (kg)'].median(),inplace = True)\n",
    "\n",
    "full_data_4['2012 Energy Intensity (eWh/HDD/sq. ft)'].fillna(full_data_4['2012 Energy Intensity (eWh/HDD/sq. ft)'].median(),inplace = True)\n",
    "full_data_4['2012 Energy Intensity (ekWh/ML)'].fillna(full_data_4['2012 Energy Intensity (ekWh/ML)'].median(),inplace = True)\n",
    "\n",
    "full_data_4['2013 GHG Emissions (kg)'].fillna(full_data_4['2013 GHG Emissions (kg)'].median(),inplace = True)\n",
    "#2013 GHG Emissions (kg)\n",
    "full_data_4['2013 Energy Intensity (eWh/HDD/sq. ft)'].fillna(full_data_4['2013 Energy Intensity (eWh/HDD/sq. ft)'].median(),inplace = True)\n",
    "\n",
    "full_data_4['2013 Energy Intensity (ekWh/ML)'].fillna(full_data_4['2013 Energy Intensity (ekWh/ML)'].median(),inplace = True)\n",
    "full_data_4['2014 GHG Emissions (kg)'].fillna(full_data_4['2014 GHG Emissions (kg)'].median(),inplace = True)\n",
    "\n",
    "full_data_4['2014 Energy Intensity (eWh/HDD/sq. ft)'].fillna(full_data_4['2014 Energy Intensity (eWh/HDD/sq. ft)'].median(),inplace = True)\n",
    "full_data_4['2014 Energy Intensity (ekWh/ML)'].fillna(full_data_4['2014 Energy Intensity (ekWh/ML)'].median(),inplace = True)\n",
    "\n",
    "full_data_4['2015 GHG Emissions (kg)'].fillna(full_data_4['2015 GHG Emissions (kg)'].median(),inplace = True)\n",
    "full_data_4['2015 Energy Intensity (eWh/HDD/sq. ft)'].fillna(full_data_4['2015 Energy Intensity (eWh/HDD/sq. ft)'].median(),inplace = True)\n",
    "\n",
    "full_data_4['2015 Energy Intensity (ekWh/ML)'].fillna(full_data_4['2015 Energy Intensity (ekWh/ML)'].median(),inplace = True)\n",
    "full_data_4['2014 Energy Intensity (ekWh/ML)'].fillna(full_data_4['2014 Energy Intensity (ekWh/ML)'].median(),inplace = True)\n",
    "\n",
    "full_data_4['2016 GHG Emissions (kg)'].fillna(full_data_4['2016 GHG Emissions (kg)'].median(),inplace = True)\n",
    "full_data_4['2016 Energy Intensity (eWh/HDD/sq. ft)'].fillna(full_data_4['2016 Energy Intensity (eWh/HDD/sq. ft)'].median(),inplace = True)\n",
    "                                                      \n",
    "full_data_4['2016 Energy Intensity (ekWh/ML)'].fillna(full_data_4['2016 Energy Intensity (ekWh/ML)'].median(),inplace = True)\n",
    "full_data_4['2017 GHG Emissions (kg)'].fillna(full_data_4['2017 GHG Emissions (kg)'].median(),inplace = True)\n",
    "                                                                                                            \n",
    "full_data_4['2017 Energy Intensity (eWh/HDD/sq. ft)'].fillna(full_data_4['2017 Energy Intensity (eWh/HDD/sq. ft)'].median(),inplace = True)\n",
    "full_data_4['2017 Energy Intensity (ekWh/ML)'].fillna(full_data_4['2017 Energy Intensity (ekWh/ML)'].median(),inplace = True)\n",
    "\n",
    "full_data_4['2018 GHG Emissions (kg)'].fillna(full_data_4['2018 GHG Emissions (kg)'].median(),inplace = True)\n",
    "full_data_4['2018 Energy Intensity (eWh/HDD/sq. ft)'].fillna(full_data_4['2018 Energy Intensity (eWh/HDD/sq. ft)'].median(),inplace = True)\n",
    "\n",
    "#2018 Energy Intensity (ekWh/ML) \n",
    "full_data_4['2018 Energy Intensity (ekWh/ML)'].fillna(full_data_4['2018 Energy Intensity (ekWh/ML)'].median(),inplace = True)\n",
    "full_data_4['2019 GHG Emissions (kg)'].fillna(full_data_4['2019 GHG Emissions (kg)'].median(),inplace = True)\n",
    "\n",
    "\n",
    "full_data_4['2019 Energy Intensity (eWh/HDD/sq. ft)'].fillna(full_data_4['2019 Energy Intensity (eWh/HDD/sq. ft)'].median(),inplace = True)\n",
    "full_data_4['2019 Energy Intensity (ekWh/ML)'].fillna(full_data_4['2019 Energy Intensity (ekWh/ML)'].median(),inplace = True)\n",
    "full_data_4['Unnamed: 11'].fillna(full_data_4['Unnamed: 11'].median(),inplace = True )\n",
    "\n",
    "full_data_4['GHG Emissions (kg)'].fillna(full_data_4['GHG Emissions (kg)'].median(),inplace = True)\n",
    "#Energy Intensity (eWh/HDD/sq. ft)\n",
    "full_data_4['Energy Intensity (eWh/HDD/sq. ft)'].fillna(full_data_4['Energy Intensity (eWh/HDD/sq. ft)'].median(),inplace = True)\n",
    "full_data_4['Energy Intensity (ekWh/ML)'].fillna(full_data_4['Energy Intensity (ekWh/ML)'].median(),inplace = True)"
   ]
  },
  {
   "cell_type": "code",
   "execution_count": 42,
   "id": "9d8717e3",
   "metadata": {},
   "outputs": [],
   "source": [
    "full_data_4.isnull().sum()"
   ]
  },
  {
   "cell_type": "code",
   "execution_count": 43,
   "id": "eac24519",
   "metadata": {},
   "outputs": [],
   "source": [
    "full_data_4.shape #(8367, 30)"
   ]
  },
  {
   "cell_type": "code",
   "execution_count": 44,
   "id": "a1495470",
   "metadata": {},
   "outputs": [],
   "source": [
    "# Read the 5th Excel sheet\n"
   ]
  },
  {
   "cell_type": "code",
   "execution_count": 45,
   "id": "c7c33041",
   "metadata": {},
   "outputs": [],
   "source": [
    "import pandas as pd\n",
    "\n",
    "# Replace 'your_file.xls' with the actual path to your Excel file\n",
    "file_path = 'C:/Users/LENOVO/Downloads/GHG/2021_final_bps_dataset.xlsx'\n",
    "\n",
    "# Read the Excel file\n",
    "xls = pd.ExcelFile(file_path)\n",
    "\n",
    "# Specify the sheet names you are interested in\n",
    "selected_years = ['ODC Final Dataset']\n",
    "\n",
    "# Initialize a list to store DataFrames with year information\n",
    "general_data = []\n",
    "\n",
    "# Loop through each specified sheet, add year information, and store the data\n",
    "for year in selected_years:\n",
    "    sheet_name = year #str(year)  # Convert the year to a string\n",
    "    if sheet_name in xls.sheet_names:\n",
    "        df = xls.parse(sheet_name)\n",
    "        df['Year'] = year  # Add a new column 'Year' with the corresponding year\n",
    "        general_data.append(df)\n",
    "\n",
    "# Concatenate all DataFrames into a single DataFrame\n",
    "full_data_5 = pd.concat(general_data, ignore_index=True)\n",
    "\n",
    "# Now, full_data contains all the sheets with a 'Year' column indicating the corresponding year\n"
   ]
  },
  {
   "cell_type": "code",
   "execution_count": 46,
   "id": "7571d9ad",
   "metadata": {
    "scrolled": true
   },
   "outputs": [],
   "source": [
    "full_data_5"
   ]
  },
  {
   "cell_type": "code",
   "execution_count": 47,
   "id": "4446234a",
   "metadata": {},
   "outputs": [],
   "source": [
    "#Parent Property Name\n",
    "full_data_5['Parent Property Name'].unique() "
   ]
  },
  {
   "cell_type": "code",
   "execution_count": 48,
   "id": "a03fe8f7",
   "metadata": {},
   "outputs": [],
   "source": [
    "full_data_5['Portfolio Manager Parent Property ID'].unique()"
   ]
  },
  {
   "cell_type": "code",
   "execution_count": 49,
   "id": "c66eb193",
   "metadata": {},
   "outputs": [],
   "source": [
    "#Weather Normalized Site Energy Use (GJ)\n",
    "full_data_5['Weather Normalized Site Energy Use (GJ)'].unique()"
   ]
  },
  {
   "cell_type": "code",
   "execution_count": 50,
   "id": "e2cc6329",
   "metadata": {},
   "outputs": [],
   "source": [
    "full_data_5.describe()"
   ]
  },
  {
   "cell_type": "code",
   "execution_count": 51,
   "id": "af66f189",
   "metadata": {},
   "outputs": [],
   "source": [
    "full_data_5.dtypes"
   ]
  },
  {
   "cell_type": "code",
   "execution_count": 52,
   "id": "5226c5a7",
   "metadata": {},
   "outputs": [],
   "source": [
    "full_data_5.isnull().sum()"
   ]
  },
  {
   "cell_type": "code",
   "execution_count": 53,
   "id": "bae70b0a",
   "metadata": {},
   "outputs": [],
   "source": [
    "full_data_5.shape"
   ]
  },
  {
   "cell_type": "code",
   "execution_count": 54,
   "id": "599fd0c0",
   "metadata": {
    "scrolled": true
   },
   "outputs": [],
   "source": [
    "# Getting the common columns from the files\n",
    "\n",
    "df1 = pd.DataFrame(full_data)\n",
    "df2 = pd.DataFrame(full_data_2)\n",
    "df3 = pd.DataFrame(full_data_3)\n",
    "#df4 = pd.DataFrame(full_data_4)\n",
    "#df5 = pd.DataFrame(full_data_5)\n",
    "\n",
    "# Get the common cols.\n",
    "common_columns = set(df1.columns) & set(df2.columns) & set(df3.columns) #& set(df4.columns) & set(df5.columns)\n",
    "common_columns"
   ]
  },
  {
   "cell_type": "code",
   "execution_count": 55,
   "id": "81279c63",
   "metadata": {},
   "outputs": [],
   "source": [
    "dataset_1 = pd.concat([df1, df2, df3], ignore_index=True)\n",
    "dataset_1"
   ]
  },
  {
   "cell_type": "code",
   "execution_count": 56,
   "id": "b0293897",
   "metadata": {},
   "outputs": [],
   "source": [
    "# Check the isnull() for final_dataset "
   ]
  },
  {
   "cell_type": "code",
   "execution_count": 57,
   "id": "9443d3dc",
   "metadata": {},
   "outputs": [],
   "source": [
    "dataset_1.dtypes"
   ]
  },
  {
   "cell_type": "code",
   "execution_count": 58,
   "id": "490637f2",
   "metadata": {},
   "outputs": [],
   "source": [
    "dataset_1.shape"
   ]
  },
  {
   "cell_type": "code",
   "execution_count": 59,
   "id": "b142a4ac",
   "metadata": {},
   "outputs": [],
   "source": [
    "dataset_1.isnull().sum()"
   ]
  },
  {
   "cell_type": "code",
   "execution_count": 60,
   "id": "c9f78000",
   "metadata": {},
   "outputs": [],
   "source": [
    "dataset_1['2013 Energy Intensity (ekWh/ML)'] = dataset_1['2013 Energy Intensity (ekWh/ML)'].median()\n",
    "dataset_1['Energy Intensity (eWh/HDD/sq. ft)'] = dataset_1['Energy Intensity (eWh/HDD/sq. ft)'].median()\n",
    "dataset_1['2016 Energy Intensity (eWh/HDD/sq. ft)'] = dataset_1['2016 Energy Intensity (eWh/HDD/sq. ft)'].median()"
   ]
  },
  {
   "cell_type": "code",
   "execution_count": 61,
   "id": "44acb162",
   "metadata": {},
   "outputs": [],
   "source": [
    "column = ['Sub Sector' ,'SubSector']\n",
    "dataset_1[column] = dataset_1[column].fillna('')"
   ]
  },
  {
   "cell_type": "code",
   "execution_count": 62,
   "id": "2b996341",
   "metadata": {},
   "outputs": [],
   "source": [
    "#final_dataset = final_dataset.fillna('Unknown')\n",
    "dataset_1.isnull().sum()"
   ]
  },
  {
   "cell_type": "code",
   "execution_count": 63,
   "id": "02eae214",
   "metadata": {},
   "outputs": [],
   "source": [
    "cleanup_1 = pd.DataFrame(dataset_1)\n",
    "cleanup_1"
   ]
  },
  {
   "cell_type": "code",
   "execution_count": 64,
   "id": "67d0af0b",
   "metadata": {},
   "outputs": [],
   "source": [
    "# Getting the common columns from the files\n",
    "\n",
    "df4 = pd.DataFrame(full_data_4)\n",
    "df5 = pd.DataFrame(full_data_5)\n",
    "\n",
    "# Get the common cols.\n",
    "common_col = set(df4.columns) & set(df5.columns) # set(df1.columns) & set(df2.columns) & set(df3.columns) #\n",
    "common_col"
   ]
  },
  {
   "cell_type": "code",
   "execution_count": 65,
   "id": "7cc084e7",
   "metadata": {},
   "outputs": [],
   "source": [
    "#clean_df = pd.DataFrame(cleanup_1)\n",
    "comm = set(cleanup_1.columns) & set(df4.columns) \n",
    "comm"
   ]
  },
  {
   "cell_type": "code",
   "execution_count": 66,
   "id": "a14c27a3",
   "metadata": {},
   "outputs": [],
   "source": [
    "datapart_1 = pd.concat([cleanup_1 , df4], ignore_index=True)\n",
    "datapart_1"
   ]
  },
  {
   "cell_type": "code",
   "execution_count": 67,
   "id": "b7048864",
   "metadata": {},
   "outputs": [],
   "source": [
    "datapart_1.shape"
   ]
  },
  {
   "cell_type": "code",
   "execution_count": 68,
   "id": "bd4da3e7",
   "metadata": {},
   "outputs": [],
   "source": [
    "datapart_1.isnull().sum()"
   ]
  },
  {
   "cell_type": "code",
   "execution_count": 69,
   "id": "5dd4d13d",
   "metadata": {},
   "outputs": [],
   "source": [
    "# fill the Nan values in the missing columns which are numerical\n",
    "datapart_1['2011 Energy Intensity (ekWh/ML)'] = datapart_1['2011 Energy Intensity (ekWh/ML)'].median()\n",
    "\n",
    "datapart_1['2012 Energy Intensity (ekWh/ML)'] = datapart_1['2012 Energy Intensity (ekWh/ML)'].median()\n",
    "datapart_1['2014 Energy Intensity (ekWh/ML)'] = datapart_1['2014 Energy Intensity (ekWh/ML)'].median()\n",
    "datapart_1['2015 Energy Intensity (ekWh/ML)'] = datapart_1['2015 Energy Intensity (ekWh/ML)'].median()\n",
    "datapart_1['2016 Energy Intensity (ekWh/ML)'] = datapart_1['2016 Energy Intensity (ekWh/ML)'].median()\n",
    "datapart_1['2017 Energy Intensity (ekWh/ML)'] = datapart_1['2017 Energy Intensity (ekWh/ML)'].median()\n",
    "datapart_1['2018 Energy Intensity (ekWh/ML)'] = datapart_1['2018 Energy Intensity (ekWh/ML)'].median()\n",
    "datapart_1['Unnamed: 11']= datapart_1['Unnamed: 11'].median()\n",
    "datapart_1['2019 Energy Intensity (ekWh/ML)'] = datapart_1['2019 Energy Intensity (ekWh/ML)'].median()\n",
    "datapart_1['Energy Intensity (ekWh/ML)'] = datapart_1['Energy Intensity (ekWh/ML)'].median()"
   ]
  },
  {
   "cell_type": "code",
   "execution_count": 70,
   "id": "abc4e286",
   "metadata": {},
   "outputs": [],
   "source": [
    "column = ['SubSector','Sub Sector','Postal Code','City', 'Address']\n",
    "datapart_1[column] = datapart_1[column].fillna('')"
   ]
  },
  {
   "cell_type": "code",
   "execution_count": 71,
   "id": "524ffbe0",
   "metadata": {},
   "outputs": [],
   "source": [
    "datapart_1.isnull().sum()"
   ]
  },
  {
   "cell_type": "code",
   "execution_count": 72,
   "id": "241f2b89",
   "metadata": {},
   "outputs": [],
   "source": [
    "#part_2 = pd.DataFrame(datapart_1)\n",
    "commu = set(cleanup_1.columns) & set(df5.columns)\n",
    "commu"
   ]
  },
  {
   "cell_type": "markdown",
   "id": "967f652a",
   "metadata": {},
   "source": [
    "df5.columns"
   ]
  },
  {
   "cell_type": "code",
   "execution_count": 73,
   "id": "9830507a",
   "metadata": {},
   "outputs": [],
   "source": [
    "df5.columns"
   ]
  },
  {
   "cell_type": "code",
   "execution_count": 74,
   "id": "53b9664e",
   "metadata": {},
   "outputs": [],
   "source": [
    "import pandas as pd\n",
    "\n",
    "# Assuming table_A and table_B are your DataFrames\n",
    "\n",
    "# List of common columns\n",
    "common_columns = ['Address', 'City', 'Organization', 'Postal Code', 'Sector', 'Year']\n",
    "\n",
    "# Columns to select from table_B\n",
    "selected_columns_B = ['Electricity Use - Grid Purchase (kWh)',\n",
    "                      'Electricity Use - Grid Purchase (GJ)',\n",
    "                      'Natural Gas Use (therms)',\n",
    "                      'Natural Gas Use (GJ)',\n",
    "                      'Fuel Oil #1 Use (GJ)',\n",
    "                      'Fuel Oil #2 Use (GJ)',\n",
    "                      'Fuel Oil #4 Use (GJ)',\n",
    "                      'Fuel Oil #5 & 6 Use (GJ)',\n",
    "                      'District Hot Water Use (GJ)',\n",
    "                      'District Chilled Water Use (GJ)',\n",
    "                      'Wood Use (GJ)',\n",
    "                      'District Steam Use (GJ)',\n",
    "                     'Site EUI (GJ/m²)','Site EUI (ekWh/sqft)']\n",
    "\n",
    "# Selecting columns from table_B\n",
    "selected_table_B = df5[common_columns + selected_columns_B]\n"
   ]
  },
  {
   "cell_type": "code",
   "execution_count": 75,
   "id": "3a83524e",
   "metadata": {},
   "outputs": [],
   "source": [
    "selected_table_B"
   ]
  },
  {
   "cell_type": "code",
   "execution_count": 76,
   "id": "0081981b",
   "metadata": {},
   "outputs": [],
   "source": [
    "print('Electricity Use - Grid Purchase (kWh) :',selected_table_B['Electricity Use - Grid Purchase (kWh)'].unique())\n",
    "print('Natural Gas Use (therms) :',selected_table_B['Natural Gas Use (therms)'].unique())\n",
    "print('Natural Gas Use (GJ) :',selected_table_B['Natural Gas Use (GJ)'].unique())\n",
    "print('Fuel Oil #1 Use (GJ) :',selected_table_B['Fuel Oil #1 Use (GJ)'].unique())\n",
    "print('Fuel Oil #2 Use (GJ) :',selected_table_B['Fuel Oil #2 Use (GJ)'].unique())\n",
    "print('Fuel Oil #4 Use (GJ) :',selected_table_B['Fuel Oil #4 Use (GJ)'].unique())\n",
    "print('Fuel Oil #5 & 6 Use (GJ) :',selected_table_B['Fuel Oil #5 & 6 Use (GJ)'].unique())\n",
    "print('District Hot Water Use (GJ) :',selected_table_B['District Hot Water Use (GJ)'].unique())\n",
    "print('District Chilled Water Use (GJ) :',selected_table_B['District Chilled Water Use (GJ)'].unique())\n",
    "print('Wood Use (GJ) :',selected_table_B['Wood Use (GJ)'].unique())\n",
    "print('District Steam Use (GJ) :',selected_table_B['District Steam Use (GJ)'].unique())\n",
    "print('Site EUI (GJ/m²) :',selected_table_B['District Steam Use (GJ)'].unique())\n",
    "print('Site EUI (ekWh/sqft) :',selected_table_B['District Steam Use (GJ)'].unique())\n",
    "                                                         \n"
   ]
  },
  {
   "cell_type": "code",
   "execution_count": 77,
   "id": "41aaf18d",
   "metadata": {},
   "outputs": [],
   "source": [
    "col =['Electricity Use - Grid Purchase (kWh)',\n",
    "                      'Electricity Use - Grid Purchase (GJ)',\n",
    "                      'Natural Gas Use (therms)',\n",
    "                      'Natural Gas Use (GJ)',\n",
    "                      'Fuel Oil #1 Use (GJ)',\n",
    "                      'Fuel Oil #2 Use (GJ)',\n",
    "                      'Fuel Oil #4 Use (GJ)',\n",
    "                      'Fuel Oil #5 & 6 Use (GJ)',\n",
    "                      'District Hot Water Use (GJ)',\n",
    "                      'District Chilled Water Use (GJ)',\n",
    "                      'Wood Use (GJ)',\n",
    "                      'District Steam Use (GJ)','Site EUI (ekWh/sqft)','Site EUI (GJ/m²)']\n",
    "\n",
    "selected_table_B.replace('Not Available', 0, inplace=True)"
   ]
  },
  {
   "cell_type": "code",
   "execution_count": 78,
   "id": "2b89f925",
   "metadata": {},
   "outputs": [],
   "source": [
    "selected_table_B"
   ]
  },
  {
   "cell_type": "code",
   "execution_count": 79,
   "id": "e6d89bc7",
   "metadata": {},
   "outputs": [],
   "source": [
    "part_2 = pd.DataFrame(datapart_1)\n",
    "part_3 = pd.concat([part_2,selected_table_B], ignore_index=True)\n",
    "part_3"
   ]
  },
  {
   "cell_type": "code",
   "execution_count": 80,
   "id": "d640187b",
   "metadata": {},
   "outputs": [],
   "source": [
    "part_3.shape"
   ]
  },
  {
   "cell_type": "code",
   "execution_count": 81,
   "id": "19269d8b",
   "metadata": {},
   "outputs": [],
   "source": [
    "part_3.isnull().sum()"
   ]
  },
  {
   "cell_type": "code",
   "execution_count": 82,
   "id": "7933817d",
   "metadata": {},
   "outputs": [],
   "source": [
    "part_3.dtypes"
   ]
  },
  {
   "cell_type": "code",
   "execution_count": 83,
   "id": "dc3fc74d",
   "metadata": {},
   "outputs": [],
   "source": [
    "for column in part_3.columns:\n",
    "    if part_3[column].dtype == 'float64':\n",
    "            #median_value = part_3[column].median()\n",
    "            part_3[column].fillna(0, inplace=True)\n",
    "    else:\n",
    "        part_3[column].fillna('Unknown', inplace=True)"
   ]
  },
  {
   "cell_type": "code",
   "execution_count": 84,
   "id": "07a7e6a1",
   "metadata": {},
   "outputs": [],
   "source": [
    "part_3"
   ]
  },
  {
   "cell_type": "code",
   "execution_count": 85,
   "id": "73eabddc",
   "metadata": {},
   "outputs": [],
   "source": [
    "part_3.isna().sum()"
   ]
  },
  {
   "cell_type": "code",
   "execution_count": 86,
   "id": "f4017044",
   "metadata": {},
   "outputs": [],
   "source": [
    "part_3.to_csv('final_5.csv', index=False)"
   ]
  },
  {
   "cell_type": "code",
   "execution_count": 87,
   "id": "e78131be",
   "metadata": {},
   "outputs": [],
   "source": [
    "part_3.to_csv('data.zip', index=False, compression='zip')"
   ]
  },
  {
   "cell_type": "code",
   "execution_count": 90,
   "id": "89d26bcc",
   "metadata": {},
   "outputs": [],
   "source": [
    "jlo = pd.read_csv('final_5.csv')"
   ]
  },
  {
   "cell_type": "code",
   "execution_count": 91,
   "id": "abc8dd84",
   "metadata": {},
   "outputs": [
    {
     "data": {
      "text/html": [
       "<div>\n",
       "<style scoped>\n",
       "    .dataframe tbody tr th:only-of-type {\n",
       "        vertical-align: middle;\n",
       "    }\n",
       "\n",
       "    .dataframe tbody tr th {\n",
       "        vertical-align: top;\n",
       "    }\n",
       "\n",
       "    .dataframe thead th {\n",
       "        text-align: right;\n",
       "    }\n",
       "</style>\n",
       "<table border=\"1\" class=\"dataframe\">\n",
       "  <thead>\n",
       "    <tr style=\"text-align: right;\">\n",
       "      <th></th>\n",
       "      <th>Sector</th>\n",
       "      <th>Sub Sector</th>\n",
       "      <th>Organization</th>\n",
       "      <th>Operation</th>\n",
       "      <th>Operation Type</th>\n",
       "      <th>Address</th>\n",
       "      <th>City</th>\n",
       "      <th>Postal Code</th>\n",
       "      <th>2011 GHG Emissions (kg)</th>\n",
       "      <th>2011 Energy Intensity (eWh/HDD/sq. ft)</th>\n",
       "      <th>...</th>\n",
       "      <th>Fuel Oil #1 Use (GJ)</th>\n",
       "      <th>Fuel Oil #2 Use (GJ)</th>\n",
       "      <th>Fuel Oil #4 Use (GJ)</th>\n",
       "      <th>Fuel Oil #5 &amp; 6 Use (GJ)</th>\n",
       "      <th>District Hot Water Use (GJ)</th>\n",
       "      <th>District Chilled Water Use (GJ)</th>\n",
       "      <th>Wood Use (GJ)</th>\n",
       "      <th>District Steam Use (GJ)</th>\n",
       "      <th>Site EUI (GJ/m²)</th>\n",
       "      <th>Site EUI (ekWh/sqft)</th>\n",
       "    </tr>\n",
       "  </thead>\n",
       "  <tbody>\n",
       "    <tr>\n",
       "      <th>0</th>\n",
       "      <td>School Board</td>\n",
       "      <td>School Board</td>\n",
       "      <td>District School Board Ontario North East</td>\n",
       "      <td>Bertha Shaw Public School</td>\n",
       "      <td>School</td>\n",
       "      <td>109 Powell Avenue</td>\n",
       "      <td>South Porcupine</td>\n",
       "      <td>P0N1H0</td>\n",
       "      <td>80598.495371</td>\n",
       "      <td>3.567067</td>\n",
       "      <td>...</td>\n",
       "      <td>0.0</td>\n",
       "      <td>0.0</td>\n",
       "      <td>0.0</td>\n",
       "      <td>0.0</td>\n",
       "      <td>0.0</td>\n",
       "      <td>0.0</td>\n",
       "      <td>0.0</td>\n",
       "      <td>0.0</td>\n",
       "      <td>0.00</td>\n",
       "      <td>0.000000</td>\n",
       "    </tr>\n",
       "    <tr>\n",
       "      <th>1</th>\n",
       "      <td>School Board</td>\n",
       "      <td>School Board</td>\n",
       "      <td>District School Board Ontario North East</td>\n",
       "      <td>Central Public School</td>\n",
       "      <td>School</td>\n",
       "      <td>23 Station Road</td>\n",
       "      <td>Kirkland Lake</td>\n",
       "      <td>P2N2H2</td>\n",
       "      <td>115245.434064</td>\n",
       "      <td>7.031167</td>\n",
       "      <td>...</td>\n",
       "      <td>0.0</td>\n",
       "      <td>0.0</td>\n",
       "      <td>0.0</td>\n",
       "      <td>0.0</td>\n",
       "      <td>0.0</td>\n",
       "      <td>0.0</td>\n",
       "      <td>0.0</td>\n",
       "      <td>0.0</td>\n",
       "      <td>0.00</td>\n",
       "      <td>0.000000</td>\n",
       "    </tr>\n",
       "    <tr>\n",
       "      <th>2</th>\n",
       "      <td>School Board</td>\n",
       "      <td>School Board</td>\n",
       "      <td>District School Board Ontario North East</td>\n",
       "      <td>Charlton-Savard Public School- closed</td>\n",
       "      <td>School</td>\n",
       "      <td>RR #1</td>\n",
       "      <td>Charlton Station</td>\n",
       "      <td>P0J1B0</td>\n",
       "      <td>22628.308969</td>\n",
       "      <td>2.631036</td>\n",
       "      <td>...</td>\n",
       "      <td>0.0</td>\n",
       "      <td>0.0</td>\n",
       "      <td>0.0</td>\n",
       "      <td>0.0</td>\n",
       "      <td>0.0</td>\n",
       "      <td>0.0</td>\n",
       "      <td>0.0</td>\n",
       "      <td>0.0</td>\n",
       "      <td>0.00</td>\n",
       "      <td>0.000000</td>\n",
       "    </tr>\n",
       "    <tr>\n",
       "      <th>3</th>\n",
       "      <td>School Board</td>\n",
       "      <td>School Board</td>\n",
       "      <td>District School Board Ontario North East</td>\n",
       "      <td>Clayton Brown Public School</td>\n",
       "      <td>School</td>\n",
       "      <td>27 - 10th Street</td>\n",
       "      <td>Hearst</td>\n",
       "      <td>P0L1N0</td>\n",
       "      <td>178707.655573</td>\n",
       "      <td>5.107122</td>\n",
       "      <td>...</td>\n",
       "      <td>0.0</td>\n",
       "      <td>0.0</td>\n",
       "      <td>0.0</td>\n",
       "      <td>0.0</td>\n",
       "      <td>0.0</td>\n",
       "      <td>0.0</td>\n",
       "      <td>0.0</td>\n",
       "      <td>0.0</td>\n",
       "      <td>0.00</td>\n",
       "      <td>0.000000</td>\n",
       "    </tr>\n",
       "    <tr>\n",
       "      <th>4</th>\n",
       "      <td>School Board</td>\n",
       "      <td>School Board</td>\n",
       "      <td>District School Board Ontario North East</td>\n",
       "      <td>Cobalt Public School- closed</td>\n",
       "      <td>School</td>\n",
       "      <td>5 Dunning Avenue</td>\n",
       "      <td>Cobalt</td>\n",
       "      <td>P0J1C0</td>\n",
       "      <td>99535.050762</td>\n",
       "      <td>5.550611</td>\n",
       "      <td>...</td>\n",
       "      <td>0.0</td>\n",
       "      <td>0.0</td>\n",
       "      <td>0.0</td>\n",
       "      <td>0.0</td>\n",
       "      <td>0.0</td>\n",
       "      <td>0.0</td>\n",
       "      <td>0.0</td>\n",
       "      <td>0.0</td>\n",
       "      <td>0.00</td>\n",
       "      <td>0.000000</td>\n",
       "    </tr>\n",
       "    <tr>\n",
       "      <th>...</th>\n",
       "      <td>...</td>\n",
       "      <td>...</td>\n",
       "      <td>...</td>\n",
       "      <td>...</td>\n",
       "      <td>...</td>\n",
       "      <td>...</td>\n",
       "      <td>...</td>\n",
       "      <td>...</td>\n",
       "      <td>...</td>\n",
       "      <td>...</td>\n",
       "      <td>...</td>\n",
       "      <td>...</td>\n",
       "      <td>...</td>\n",
       "      <td>...</td>\n",
       "      <td>...</td>\n",
       "      <td>...</td>\n",
       "      <td>...</td>\n",
       "      <td>...</td>\n",
       "      <td>...</td>\n",
       "      <td>...</td>\n",
       "      <td>...</td>\n",
       "    </tr>\n",
       "    <tr>\n",
       "      <th>189067</th>\n",
       "      <td>School Boards</td>\n",
       "      <td>Unknown</td>\n",
       "      <td>Conseil scolaire de district catholique du Cen...</td>\n",
       "      <td>Unknown</td>\n",
       "      <td>Unknown</td>\n",
       "      <td>6664, rue Carrière</td>\n",
       "      <td>Orleans</td>\n",
       "      <td>K1C 1J4</td>\n",
       "      <td>0.000000</td>\n",
       "      <td>0.000000</td>\n",
       "      <td>...</td>\n",
       "      <td>0.0</td>\n",
       "      <td>0.0</td>\n",
       "      <td>0.0</td>\n",
       "      <td>0.0</td>\n",
       "      <td>0.0</td>\n",
       "      <td>0.0</td>\n",
       "      <td>0.0</td>\n",
       "      <td>0.0</td>\n",
       "      <td>0.73</td>\n",
       "      <td>18.838710</td>\n",
       "    </tr>\n",
       "    <tr>\n",
       "      <th>189068</th>\n",
       "      <td>School Boards</td>\n",
       "      <td>Unknown</td>\n",
       "      <td>Conseil scolaire de district catholique du Cen...</td>\n",
       "      <td>Unknown</td>\n",
       "      <td>Unknown</td>\n",
       "      <td>100, pr. Walden</td>\n",
       "      <td>Kanata</td>\n",
       "      <td>K2L 0G8</td>\n",
       "      <td>0.000000</td>\n",
       "      <td>0.000000</td>\n",
       "      <td>...</td>\n",
       "      <td>0.0</td>\n",
       "      <td>0.0</td>\n",
       "      <td>0.0</td>\n",
       "      <td>0.0</td>\n",
       "      <td>0.0</td>\n",
       "      <td>0.0</td>\n",
       "      <td>0.0</td>\n",
       "      <td>0.0</td>\n",
       "      <td>0.62</td>\n",
       "      <td>16.000000</td>\n",
       "    </tr>\n",
       "    <tr>\n",
       "      <th>189069</th>\n",
       "      <td>School Boards</td>\n",
       "      <td>Unknown</td>\n",
       "      <td>Conseil scolaire de district catholique du Cen...</td>\n",
       "      <td>Unknown</td>\n",
       "      <td>Unknown</td>\n",
       "      <td>4000, rue Labelle</td>\n",
       "      <td>Ottawa</td>\n",
       "      <td>K1J 1A1</td>\n",
       "      <td>0.000000</td>\n",
       "      <td>0.000000</td>\n",
       "      <td>...</td>\n",
       "      <td>0.0</td>\n",
       "      <td>0.0</td>\n",
       "      <td>0.0</td>\n",
       "      <td>0.0</td>\n",
       "      <td>0.0</td>\n",
       "      <td>0.0</td>\n",
       "      <td>0.0</td>\n",
       "      <td>0.0</td>\n",
       "      <td>0.69</td>\n",
       "      <td>17.806452</td>\n",
       "    </tr>\n",
       "    <tr>\n",
       "      <th>189070</th>\n",
       "      <td>School Boards</td>\n",
       "      <td>Unknown</td>\n",
       "      <td>Conseil scolaire de district catholique du Cen...</td>\n",
       "      <td>Unknown</td>\n",
       "      <td>Unknown</td>\n",
       "      <td>704, ch. Carson</td>\n",
       "      <td>Ottawa</td>\n",
       "      <td>K1K 2H3</td>\n",
       "      <td>0.000000</td>\n",
       "      <td>0.000000</td>\n",
       "      <td>...</td>\n",
       "      <td>0.0</td>\n",
       "      <td>0.0</td>\n",
       "      <td>0.0</td>\n",
       "      <td>0.0</td>\n",
       "      <td>0.0</td>\n",
       "      <td>0.0</td>\n",
       "      <td>0.0</td>\n",
       "      <td>0.0</td>\n",
       "      <td>0.86</td>\n",
       "      <td>22.193548</td>\n",
       "    </tr>\n",
       "    <tr>\n",
       "      <th>189071</th>\n",
       "      <td>School Boards</td>\n",
       "      <td>Unknown</td>\n",
       "      <td>Conseil scolaire de district catholique du Cen...</td>\n",
       "      <td>Unknown</td>\n",
       "      <td>Unknown</td>\n",
       "      <td>1303, ch. Fellows</td>\n",
       "      <td>Ottawa</td>\n",
       "      <td>K2C 2V8</td>\n",
       "      <td>0.000000</td>\n",
       "      <td>0.000000</td>\n",
       "      <td>...</td>\n",
       "      <td>0.0</td>\n",
       "      <td>0.0</td>\n",
       "      <td>0.0</td>\n",
       "      <td>0.0</td>\n",
       "      <td>0.0</td>\n",
       "      <td>0.0</td>\n",
       "      <td>0.0</td>\n",
       "      <td>0.0</td>\n",
       "      <td>0.61</td>\n",
       "      <td>15.741935</td>\n",
       "    </tr>\n",
       "  </tbody>\n",
       "</table>\n",
       "<p>189072 rows × 55 columns</p>\n",
       "</div>"
      ],
      "text/plain": [
       "               Sector    Sub Sector  \\\n",
       "0        School Board  School Board   \n",
       "1        School Board  School Board   \n",
       "2        School Board  School Board   \n",
       "3        School Board  School Board   \n",
       "4        School Board  School Board   \n",
       "...               ...           ...   \n",
       "189067  School Boards       Unknown   \n",
       "189068  School Boards       Unknown   \n",
       "189069  School Boards       Unknown   \n",
       "189070  School Boards       Unknown   \n",
       "189071  School Boards       Unknown   \n",
       "\n",
       "                                             Organization  \\\n",
       "0                District School Board Ontario North East   \n",
       "1                District School Board Ontario North East   \n",
       "2                District School Board Ontario North East   \n",
       "3                District School Board Ontario North East   \n",
       "4                District School Board Ontario North East   \n",
       "...                                                   ...   \n",
       "189067  Conseil scolaire de district catholique du Cen...   \n",
       "189068  Conseil scolaire de district catholique du Cen...   \n",
       "189069  Conseil scolaire de district catholique du Cen...   \n",
       "189070  Conseil scolaire de district catholique du Cen...   \n",
       "189071  Conseil scolaire de district catholique du Cen...   \n",
       "\n",
       "                                    Operation Operation Type  \\\n",
       "0                   Bertha Shaw Public School         School   \n",
       "1                       Central Public School         School   \n",
       "2       Charlton-Savard Public School- closed         School   \n",
       "3                 Clayton Brown Public School         School   \n",
       "4                Cobalt Public School- closed         School   \n",
       "...                                       ...            ...   \n",
       "189067                                Unknown        Unknown   \n",
       "189068                                Unknown        Unknown   \n",
       "189069                                Unknown        Unknown   \n",
       "189070                                Unknown        Unknown   \n",
       "189071                                Unknown        Unknown   \n",
       "\n",
       "                   Address              City Postal Code  \\\n",
       "0        109 Powell Avenue   South Porcupine      P0N1H0   \n",
       "1          23 Station Road     Kirkland Lake      P2N2H2   \n",
       "2                    RR #1  Charlton Station      P0J1B0   \n",
       "3         27 - 10th Street            Hearst      P0L1N0   \n",
       "4         5 Dunning Avenue            Cobalt      P0J1C0   \n",
       "...                    ...               ...         ...   \n",
       "189067  6664, rue Carrière           Orleans     K1C 1J4   \n",
       "189068    100, pr. Walden             Kanata     K2L 0G8   \n",
       "189069   4000, rue Labelle            Ottawa     K1J 1A1   \n",
       "189070     704, ch. Carson            Ottawa     K1K 2H3   \n",
       "189071   1303, ch. Fellows            Ottawa     K2C 2V8   \n",
       "\n",
       "        2011 GHG Emissions (kg)  2011 Energy Intensity (eWh/HDD/sq. ft)  ...  \\\n",
       "0                  80598.495371                                3.567067  ...   \n",
       "1                 115245.434064                                7.031167  ...   \n",
       "2                  22628.308969                                2.631036  ...   \n",
       "3                 178707.655573                                5.107122  ...   \n",
       "4                  99535.050762                                5.550611  ...   \n",
       "...                         ...                                     ...  ...   \n",
       "189067                 0.000000                                0.000000  ...   \n",
       "189068                 0.000000                                0.000000  ...   \n",
       "189069                 0.000000                                0.000000  ...   \n",
       "189070                 0.000000                                0.000000  ...   \n",
       "189071                 0.000000                                0.000000  ...   \n",
       "\n",
       "       Fuel Oil #1 Use (GJ)  Fuel Oil #2 Use (GJ)  Fuel Oil #4 Use (GJ)  \\\n",
       "0                       0.0                   0.0                   0.0   \n",
       "1                       0.0                   0.0                   0.0   \n",
       "2                       0.0                   0.0                   0.0   \n",
       "3                       0.0                   0.0                   0.0   \n",
       "4                       0.0                   0.0                   0.0   \n",
       "...                     ...                   ...                   ...   \n",
       "189067                  0.0                   0.0                   0.0   \n",
       "189068                  0.0                   0.0                   0.0   \n",
       "189069                  0.0                   0.0                   0.0   \n",
       "189070                  0.0                   0.0                   0.0   \n",
       "189071                  0.0                   0.0                   0.0   \n",
       "\n",
       "        Fuel Oil #5 & 6 Use (GJ)  District Hot Water Use (GJ)  \\\n",
       "0                            0.0                          0.0   \n",
       "1                            0.0                          0.0   \n",
       "2                            0.0                          0.0   \n",
       "3                            0.0                          0.0   \n",
       "4                            0.0                          0.0   \n",
       "...                          ...                          ...   \n",
       "189067                       0.0                          0.0   \n",
       "189068                       0.0                          0.0   \n",
       "189069                       0.0                          0.0   \n",
       "189070                       0.0                          0.0   \n",
       "189071                       0.0                          0.0   \n",
       "\n",
       "        District Chilled Water Use (GJ)  Wood Use (GJ)  \\\n",
       "0                                   0.0            0.0   \n",
       "1                                   0.0            0.0   \n",
       "2                                   0.0            0.0   \n",
       "3                                   0.0            0.0   \n",
       "4                                   0.0            0.0   \n",
       "...                                 ...            ...   \n",
       "189067                              0.0            0.0   \n",
       "189068                              0.0            0.0   \n",
       "189069                              0.0            0.0   \n",
       "189070                              0.0            0.0   \n",
       "189071                              0.0            0.0   \n",
       "\n",
       "        District Steam Use (GJ)  Site EUI (GJ/m²)  Site EUI (ekWh/sqft)  \n",
       "0                           0.0              0.00              0.000000  \n",
       "1                           0.0              0.00              0.000000  \n",
       "2                           0.0              0.00              0.000000  \n",
       "3                           0.0              0.00              0.000000  \n",
       "4                           0.0              0.00              0.000000  \n",
       "...                         ...               ...                   ...  \n",
       "189067                      0.0              0.73             18.838710  \n",
       "189068                      0.0              0.62             16.000000  \n",
       "189069                      0.0              0.69             17.806452  \n",
       "189070                      0.0              0.86             22.193548  \n",
       "189071                      0.0              0.61             15.741935  \n",
       "\n",
       "[189072 rows x 55 columns]"
      ]
     },
     "execution_count": 91,
     "metadata": {},
     "output_type": "execute_result"
    }
   ],
   "source": [
    "jlo"
   ]
  },
  {
   "cell_type": "code",
   "execution_count": null,
   "id": "088f4279",
   "metadata": {},
   "outputs": [],
   "source": []
  }
 ],
 "metadata": {
  "kernelspec": {
   "display_name": "Python 3 (ipykernel)",
   "language": "python",
   "name": "python3"
  },
  "language_info": {
   "codemirror_mode": {
    "name": "ipython",
    "version": 3
   },
   "file_extension": ".py",
   "mimetype": "text/x-python",
   "name": "python",
   "nbconvert_exporter": "python",
   "pygments_lexer": "ipython3",
   "version": "3.11.3"
  }
 },
 "nbformat": 4,
 "nbformat_minor": 5
}
